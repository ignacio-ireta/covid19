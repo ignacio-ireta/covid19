{
 "cells": [
  {
   "cell_type": "code",
   "execution_count": 1,
   "id": "a1d8ed76-e5be-4ab7-9e11-1ce777e7879b",
   "metadata": {},
   "outputs": [],
   "source": [
    "import pandas as pd"
   ]
  },
  {
   "cell_type": "code",
   "execution_count": 2,
   "id": "7c0d77ab-4330-4e55-90d2-61873ec09a26",
   "metadata": {},
   "outputs": [
    {
     "name": "stderr",
     "output_type": "stream",
     "text": [
      "C:\\Users\\bglobalit\\AppData\\Local\\Temp\\ipykernel_8296\\1896246455.py:1: DtypeWarning: Columns (14) have mixed types. Specify dtype option on import or set low_memory=False.\n",
      "  colombia = pd.read_csv(r\"Casos_positivos_de_COVID-19_en_Colombia..csv\")\n"
     ]
    }
   ],
   "source": [
    "colombia = pd.read_csv(r\"Casos_positivos_de_COVID-19_en_Colombia..csv\")"
   ]
  },
  {
   "cell_type": "code",
   "execution_count": 4,
   "id": "fe686362-0297-45e8-9bd8-ff0f80c2daa0",
   "metadata": {},
   "outputs": [
    {
     "data": {
      "text/plain": [
       "Index(['fecha reporte web', 'ID de caso', 'Fecha de notificación',\n",
       "       'Código DIVIPOLA departamento', 'Nombre departamento',\n",
       "       'Código DIVIPOLA municipio', 'Nombre municipio', 'Edad',\n",
       "       'Unidad de medida de edad', 'Sexo', 'Tipo de contagio',\n",
       "       'Ubicación del caso', 'Estado', 'Código ISO del país',\n",
       "       'Nombre del país', 'Recuperado', 'Fecha de inicio de síntomas',\n",
       "       'Fecha de muerte', 'Fecha de diagnóstico', 'Fecha de recuperación',\n",
       "       'Tipo de recuperación', 'Pertenencia étnica',\n",
       "       'Nombre del grupo étnico'],\n",
       "      dtype='object')"
      ]
     },
     "execution_count": 4,
     "metadata": {},
     "output_type": "execute_result"
    }
   ],
   "source": [
    "colombia.columns"
   ]
  },
  {
   "cell_type": "code",
   "execution_count": 7,
   "id": "6259defa-776d-4f45-8827-38bab95668e2",
   "metadata": {},
   "outputs": [],
   "source": [
    "colombia.drop(columns=['fecha reporte web', 'ID de caso', 'Fecha de notificación',\n",
    "                       'Código DIVIPOLA departamento', 'Código DIVIPOLA municipio',\n",
    "                       'Unidad de medida de edad', 'Tipo de contagio', \n",
    "                       'Ubicación del caso', 'Estado', 'Código ISO del país', \n",
    "                       'Nombre del país', 'Recuperado', 'Fecha de muerte', \n",
    "                       'Fecha de diagnóstico', 'Fecha de recuperación',\n",
    "                       'Tipo de recuperación', 'Pertenencia étnica',\n",
    "                       'Nombre del grupo étnico'], inplace=True)"
   ]
  },
  {
   "cell_type": "code",
   "execution_count": 13,
   "id": "c3e0593d-fbc8-40a1-9ab0-2bcd17b13e39",
   "metadata": {},
   "outputs": [],
   "source": [
    "# Recast columns with appropriate dtypes\n",
    "colombia[\"Fecha de inicio de síntomas\"] = pd.to_datetime(colombia[\"Fecha de inicio de síntomas\"])"
   ]
  },
  {
   "cell_type": "code",
   "execution_count": 14,
   "id": "178484b7-ef10-43da-8b92-dc7df96181e9",
   "metadata": {},
   "outputs": [
    {
     "data": {
      "text/html": [
       "<div>\n",
       "<style scoped>\n",
       "    .dataframe tbody tr th:only-of-type {\n",
       "        vertical-align: middle;\n",
       "    }\n",
       "\n",
       "    .dataframe tbody tr th {\n",
       "        vertical-align: top;\n",
       "    }\n",
       "\n",
       "    .dataframe thead th {\n",
       "        text-align: right;\n",
       "    }\n",
       "</style>\n",
       "<table border=\"1\" class=\"dataframe\">\n",
       "  <thead>\n",
       "    <tr style=\"text-align: right;\">\n",
       "      <th></th>\n",
       "      <th>Nombre departamento</th>\n",
       "      <th>Nombre municipio</th>\n",
       "      <th>Edad</th>\n",
       "      <th>Sexo</th>\n",
       "      <th>Fecha de inicio de síntomas</th>\n",
       "    </tr>\n",
       "  </thead>\n",
       "  <tbody>\n",
       "    <tr>\n",
       "      <th>0</th>\n",
       "      <td>VALLE</td>\n",
       "      <td>CALI</td>\n",
       "      <td>67</td>\n",
       "      <td>F</td>\n",
       "      <td>2020-12-21</td>\n",
       "    </tr>\n",
       "    <tr>\n",
       "      <th>1</th>\n",
       "      <td>VALLE</td>\n",
       "      <td>CALI</td>\n",
       "      <td>66</td>\n",
       "      <td>F</td>\n",
       "      <td>2020-12-07</td>\n",
       "    </tr>\n",
       "    <tr>\n",
       "      <th>2</th>\n",
       "      <td>VALLE</td>\n",
       "      <td>CALI</td>\n",
       "      <td>68</td>\n",
       "      <td>F</td>\n",
       "      <td>2020-12-18</td>\n",
       "    </tr>\n",
       "    <tr>\n",
       "      <th>3</th>\n",
       "      <td>VALLE</td>\n",
       "      <td>CALI</td>\n",
       "      <td>74</td>\n",
       "      <td>F</td>\n",
       "      <td>2020-12-17</td>\n",
       "    </tr>\n",
       "    <tr>\n",
       "      <th>4</th>\n",
       "      <td>VALLE</td>\n",
       "      <td>CALI</td>\n",
       "      <td>65</td>\n",
       "      <td>F</td>\n",
       "      <td>2020-12-21</td>\n",
       "    </tr>\n",
       "  </tbody>\n",
       "</table>\n",
       "</div>"
      ],
      "text/plain": [
       "  Nombre departamento Nombre municipio  Edad Sexo Fecha de inicio de síntomas\n",
       "0               VALLE             CALI    67    F                  2020-12-21\n",
       "1               VALLE             CALI    66    F                  2020-12-07\n",
       "2               VALLE             CALI    68    F                  2020-12-18\n",
       "3               VALLE             CALI    74    F                  2020-12-17\n",
       "4               VALLE             CALI    65    F                  2020-12-21"
      ]
     },
     "execution_count": 14,
     "metadata": {},
     "output_type": "execute_result"
    }
   ],
   "source": [
    "colombia.head()"
   ]
  },
  {
   "cell_type": "code",
   "execution_count": 17,
   "id": "17c4e138-33d6-4c0d-9035-5f36b3464876",
   "metadata": {},
   "outputs": [],
   "source": [
    "colombia.rename(columns={\"Nombre departamento\": \"Estado\",\n",
    "    \"Nombre municipio\": \"Municipio\",\n",
    "\n",
    "    \"Fecha inicio de síntomas\": \"Fecha de inicio de síntomas\"\n",
    "}, inplace=True)"
   ]
  },
  {
   "cell_type": "code",
   "execution_count": 18,
   "id": "d68ef505-dc9f-4ed5-83b0-93008e8757be",
   "metadata": {},
   "outputs": [],
   "source": [
    "colombia[\"País\"] = \"Colombia\""
   ]
  },
  {
   "cell_type": "code",
   "execution_count": 20,
   "id": "3daaf4fe-ec88-4304-875e-2854e239a4aa",
   "metadata": {},
   "outputs": [],
   "source": [
    "# Stablish cutoff date (Based upon Argenitna's last cutoff date)\n",
    "cutoff_date = pd.to_datetime(\"2022-06-04\")\n",
    "filtered_data = colombia[colombia[\"Fecha de inicio de síntomas\"] <= cutoff_date]"
   ]
  },
  {
   "cell_type": "code",
   "execution_count": 21,
   "id": "3dbde8d7-03c1-47ff-96ca-95cac2e636a1",
   "metadata": {},
   "outputs": [],
   "source": [
    "filtered_data.to_csv(\"COVID19PERU2021.csv\")"
   ]
  },
  {
   "cell_type": "code",
   "execution_count": null,
   "id": "69b55b27-f041-4789-adef-851cf2df6d80",
   "metadata": {},
   "outputs": [],
   "source": []
  }
 ],
 "metadata": {
  "kernelspec": {
   "display_name": "Python 3 (ipykernel)",
   "language": "python",
   "name": "python3"
  },
  "language_info": {
   "codemirror_mode": {
    "name": "ipython",
    "version": 3
   },
   "file_extension": ".py",
   "mimetype": "text/x-python",
   "name": "python",
   "nbconvert_exporter": "python",
   "pygments_lexer": "ipython3",
   "version": "3.12.3"
  }
 },
 "nbformat": 4,
 "nbformat_minor": 5
}
