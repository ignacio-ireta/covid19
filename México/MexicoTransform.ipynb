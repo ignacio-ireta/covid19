{
 "cells": [
  {
   "cell_type": "code",
   "execution_count": 1,
   "id": "4201260c-94a1-4b7f-9255-cfa48a36c111",
   "metadata": {},
   "outputs": [],
   "source": [
    "import pandas as pd "
   ]
  },
  {
   "cell_type": "code",
   "execution_count": 2,
   "id": "5cc57411-f742-4e83-b47d-33d661348b0a",
   "metadata": {},
   "outputs": [
    {
     "name": "stderr",
     "output_type": "stream",
     "text": [
      "C:\\Users\\ignac\\AppData\\Local\\Temp\\ipykernel_9768\\3640317116.py:1: DtypeWarning: Columns (38) have mixed types. Specify dtype option on import or set low_memory=False.\n",
      "  mexico2020 = pd.read_csv(r\"../Documents/COVID19/México/COVID19MEXICO2020/COVID19MEXICO2020.csv\")\n"
     ]
    }
   ],
   "source": [
    "mexico2020 = pd.read_csv(r\"COVID19MEXICO2020.csv\")"
   ]
  },
  {
   "cell_type": "code",
   "execution_count": 3,
   "id": "1a7f6def-0fe9-43d0-990f-3bee6543f223",
   "metadata": {},
   "outputs": [
    {
     "name": "stderr",
     "output_type": "stream",
     "text": [
      "C:\\Users\\ignac\\AppData\\Local\\Temp\\ipykernel_9768\\313744662.py:1: DtypeWarning: Columns (38) have mixed types. Specify dtype option on import or set low_memory=False.\n",
      "  mexico2021 = pd.read_csv(r\"../Documents/COVID19/México/COVID19MEXICO2021/COVID19MEXICO2021.csv\")\n"
     ]
    }
   ],
   "source": [
    "mexico2021 = pd.read_csv(r\"COVID19MEXICO2021.csv\")"
   ]
  },
  {
   "cell_type": "code",
   "execution_count": 4,
   "id": "9686e66a-b2f5-4e8d-a306-aabc5e1fdcd1",
   "metadata": {},
   "outputs": [
    {
     "name": "stderr",
     "output_type": "stream",
     "text": [
      "C:\\Users\\ignac\\AppData\\Local\\Temp\\ipykernel_9768\\2044455184.py:1: DtypeWarning: Columns (38) have mixed types. Specify dtype option on import or set low_memory=False.\n",
      "  mexico2022 = pd.read_csv(r\"../Documents/COVID19/México/COVID19MEXICO2022/COVID19MEXICO2022.csv\")\n"
     ]
    }
   ],
   "source": [
    "mexico2022 = pd.read_csv(r\"COVID19MEXICO2022.csv\")"
   ]
  },
  {
   "cell_type": "code",
   "execution_count": 5,
   "id": "e9618020-a3a2-47e4-b007-d4261296f413",
   "metadata": {},
   "outputs": [],
   "source": [
    "mexico = pd.concat([mexico2020, mexico2021, mexico2022])"
   ]
  },
  {
   "cell_type": "code",
   "execution_count": 6,
   "id": "17b4e4a5-be35-447e-8501-4e61c2d3d31c",
   "metadata": {},
   "outputs": [],
   "source": [
    "mexico.drop(columns=['FECHA_ACTUALIZACION', 'ID_REGISTRO', 'ORIGEN', 'SECTOR', \n",
    "                     'ENTIDAD_UM', 'ENTIDAD_NAC', 'TIPO_PACIENTE', \n",
    "                     'FECHA_INGRESO', 'FECHA_DEF', 'INTUBADO', 'NEUMONIA',\n",
    "                     'NACIONALIDAD', 'EMBARAZO', 'HABLA_LENGUA_INDIG', 'INDIGENA',\n",
    "                     'DIABETES', 'EPOC', 'ASMA', 'INMUSUPR', 'HIPERTENSION', \n",
    "                     'OTRA_COM', 'CARDIOVASCULAR', 'OBESIDAD', 'RENAL_CRONICA', \n",
    "                     'TABAQUISMO', 'OTRO_CASO', 'TOMA_MUESTRA_LAB', \n",
    "                     'RESULTADO_LAB', 'TOMA_MUESTRA_ANTIGENO', 'RESULTADO_ANTIGENO', \n",
    "                     'CLASIFICACION_FINAL','MIGRANTE', 'PAIS_NACIONALIDAD', \n",
    "                     'PAIS_ORIGEN', 'UCI'], inplace=True)"
   ]
  },
  {
   "cell_type": "code",
   "execution_count": 7,
   "id": "cce98529-dd55-441f-a14f-7a15828f2bb8",
   "metadata": {},
   "outputs": [],
   "source": [
    "mexico.rename(columns={\"ENTIDAD_RES\": \"Estado\",\n",
    "    \"MUNICIPIO_RES\": \"Municipio\",\n",
    "    \"EDAD\": \"Edad\",\n",
    "    \"SEXO\": \"Sexo\",\n",
    "    \"FECHA_SINTOMAS\": \"Fecha de inicio de síntomas\"\n",
    "}, inplace=True)"
   ]
  },
  {
   "cell_type": "code",
   "execution_count": 8,
   "id": "5223588e-4026-4e37-8bcd-52609756c0b4",
   "metadata": {},
   "outputs": [],
   "source": [
    "mexico['Sexo'] = mexico['Sexo'].replace({1: 'F', 2: 'M'})"
   ]
  },
  {
   "cell_type": "code",
   "execution_count": 9,
   "id": "f2e0581c-328a-470c-af86-5cff4ebcf2d2",
   "metadata": {},
   "outputs": [],
   "source": [
    "mexico[\"País\"] = \"México\""
   ]
  },
  {
   "cell_type": "code",
   "execution_count": 10,
   "id": "3a50a4fd-8309-411a-848d-93dcafd4c3cf",
   "metadata": {},
   "outputs": [],
   "source": [
    "mexico[\"Fecha de inicio de síntomas\"] = pd.to_datetime(mexico[\"Fecha de inicio de síntomas\"])"
   ]
  },
  {
   "cell_type": "code",
   "execution_count": 11,
   "id": "f0965554-d11e-4edd-a135-60b3d77a01c6",
   "metadata": {},
   "outputs": [],
   "source": [
    "cutoff_date = pd.to_datetime(\"2022-06-04\")\n",
    "filtered_data = mexico[mexico[\"Fecha de inicio de síntomas\"] <= cutoff_date]"
   ]
  },
  {
   "cell_type": "code",
   "execution_count": null,
   "id": "59ad035f-7c90-4d8b-8500-cfe5d57b6d36",
   "metadata": {},
   "outputs": [],
   "source": [
    "mexico.to_csv(\"COVID19MEXICO.csv\")"
   ]
  },
  {
   "cell_type": "code",
   "execution_count": null,
   "id": "2ad89395-348c-4d1b-aa92-e0d5335fc800",
   "metadata": {},
   "outputs": [],
   "source": []
  }
 ],
 "metadata": {
  "kernelspec": {
   "display_name": "Python 3 (ipykernel)",
   "language": "python",
   "name": "python3"
  },
  "language_info": {
   "codemirror_mode": {
    "name": "ipython",
    "version": 3
   },
   "file_extension": ".py",
   "mimetype": "text/x-python",
   "name": "python",
   "nbconvert_exporter": "python",
   "pygments_lexer": "ipython3",
   "version": "3.12.2"
  }
 },
 "nbformat": 4,
 "nbformat_minor": 5
}
