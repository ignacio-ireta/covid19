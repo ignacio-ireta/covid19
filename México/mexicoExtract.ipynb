{
 "cells": [
  {
   "cell_type": "code",
   "execution_count": 1,
   "metadata": {},
   "outputs": [],
   "source": [
    "import os\n",
    "import PyPDF2\n",
    "import re\n",
    "import requests\n",
    "import sys\n",
    "import zipfile\n",
    "import numpy as np\n",
    "import pandas as pd \n",
    "import polars as pl"
   ]
  },
  {
   "cell_type": "code",
   "execution_count": 3,
   "metadata": {},
   "outputs": [
    {
     "name": "stdout",
     "output_type": "stream",
     "text": [
      "Downloaded: https://datosabiertos.salud.gob.mx/gobmx/salud/datos_abiertos/historicos/2024/03/datos_abiertos_covid19_05.03.2024.zip\n",
      "Downloaded: https://datosabiertos.salud.gob.mx/gobmx/salud/datos_abiertos/historicos/2024/03/datos_abiertos_covid19_12.03.2024.zip\n",
      "Downloaded: https://datosabiertos.salud.gob.mx/gobmx/salud/datos_abiertos/historicos/2024/03/datos_abiertos_covid19_19.03.2024.zip\n",
      "Downloaded: https://datosabiertos.salud.gob.mx/gobmx/salud/datos_abiertos/historicos/2024/03/datos_abiertos_covid19_26.03.2024.zip\n",
      "Downloaded: https://datosabiertos.salud.gob.mx/gobmx/salud/datos_abiertos/historicos/2024/02/datos_abiertos_covid19_06.02.2024.zip\n",
      "Downloaded: https://datosabiertos.salud.gob.mx/gobmx/salud/datos_abiertos/historicos/2024/02/datos_abiertos_covid19_13.02.2024.zip\n",
      "Downloaded: https://datosabiertos.salud.gob.mx/gobmx/salud/datos_abiertos/historicos/2024/02/datos_abiertos_covid19_20.02.2024.zip\n",
      "Downloaded: https://datosabiertos.salud.gob.mx/gobmx/salud/datos_abiertos/historicos/2024/02/datos_abiertos_covid19_27.02.2024.zip\n",
      "Downloaded: https://datosabiertos.salud.gob.mx/gobmx/salud/datos_abiertos/historicos/2024/01/datos_abiertos_covid19_02.01.2024.zip\n",
      "Downloaded: https://datosabiertos.salud.gob.mx/gobmx/salud/datos_abiertos/historicos/2024/01/datos_abiertos_covid19_09.01.2024.zip\n",
      "Downloaded: https://datosabiertos.salud.gob.mx/gobmx/salud/datos_abiertos/historicos/2024/01/datos_abiertos_covid19_16.01.2024.zip\n",
      "Downloaded: https://datosabiertos.salud.gob.mx/gobmx/salud/datos_abiertos/historicos/2024/01/datos_abiertos_covid19_23.01.2024.zip\n",
      "Downloaded: https://datosabiertos.salud.gob.mx/gobmx/salud/datos_abiertos/historicos/2024/01/datos_abiertos_covid19_30.01.2024.zip\n"
     ]
    }
   ],
   "source": [
    "def extractAndDownloadLinks(pdfPath: str, downloadFolder: str):\n",
    "    \"\"\"Extracts links from Mexico's open data webpage PDF files and downloads them.\n",
    "\n",
    "    Parameters\n",
    "    ----------\n",
    "    pdfPath (str): \n",
    "        The path to the PDF file.\n",
    "    downloadFolder (str): \n",
    "        The folder to save downloaded files.\n",
    "\n",
    "    Returns\n",
    "    -------\n",
    "    None\n",
    "    \"\"\"\n",
    "    with open(pdfPath, 'rb') as pdf:\n",
    "        reader = PyPDF2.PdfReader(pdf)\n",
    "\n",
    "        for page in reader.pages:\n",
    "            if \"/Annots\" in page:\n",
    "                for annot in page[\"/Annots\"]:\n",
    "                    obj = annot.get_object()\n",
    "                    if obj[\"/Subtype\"] == \"/Link\":\n",
    "                        linkDestination = obj['/A']['/URI']\n",
    "\n",
    "                        # Extract filename from the link (might need adjustments)\n",
    "                        filename = linkDestination.split('/')[-1]  \n",
    "\n",
    "                        # Download the file                        \n",
    "                        response = requests.get(linkDestination)                        \n",
    "                        if response.status_code == 200:\n",
    "                            with open(os.path.join(downloadFolder, filename), 'wb') as f:\n",
    "                                f.write(response.content)\n",
    "                            print(f\"Downloaded: {linkDestination}\")\n",
    "                        else:\n",
    "                            print(f\"Failed to download: {linkDestination}\")\n",
    "\n",
    "\n",
    "extractAndDownloadLinks(covidPDFPath, downloadsPath)"
   ]
  },
  {
   "cell_type": "code",
   "execution_count": 4,
   "metadata": {},
   "outputs": [
    {
     "name": "stdout",
     "output_type": "stream",
     "text": [
      "Renamed datos_abiertos_covid19_02.01.2024.zip to datos_abiertos_covid19_2024.01.02.zip\n",
      "Renamed datos_abiertos_covid19_02.04.2024.zip to datos_abiertos_covid19_2024.04.02.zip\n",
      "Renamed datos_abiertos_covid19_05.03.2024.zip to datos_abiertos_covid19_2024.03.05.zip\n",
      "Renamed datos_abiertos_covid19_06.02.2024.zip to datos_abiertos_covid19_2024.02.06.zip\n",
      "Renamed datos_abiertos_covid19_09.01.2024.zip to datos_abiertos_covid19_2024.01.09.zip\n",
      "Renamed datos_abiertos_covid19_09.04.2024.zip to datos_abiertos_covid19_2024.04.09.zip\n",
      "Renamed datos_abiertos_covid19_12.03.2024.zip to datos_abiertos_covid19_2024.03.12.zip\n",
      "Renamed datos_abiertos_covid19_13.02.2024.zip to datos_abiertos_covid19_2024.02.13.zip\n",
      "Renamed datos_abiertos_covid19_16.01.2024.zip to datos_abiertos_covid19_2024.01.16.zip\n",
      "Renamed datos_abiertos_covid19_19.03.2024.zip to datos_abiertos_covid19_2024.03.19.zip\n",
      "Renamed datos_abiertos_covid19_20.02.2024.zip to datos_abiertos_covid19_2024.02.20.zip\n",
      "Renamed datos_abiertos_covid19_23.01.2024.zip to datos_abiertos_covid19_2024.01.23.zip\n",
      "Renamed datos_abiertos_covid19_26.03.2024.zip to datos_abiertos_covid19_2024.03.26.zip\n",
      "Renamed datos_abiertos_covid19_27.02.2024.zip to datos_abiertos_covid19_2024.02.27.zip\n",
      "Renamed datos_abiertos_covid19_30.01.2024.zip to datos_abiertos_covid19_2024.01.30.zip\n"
     ]
    }
   ],
   "source": [
    "def renameFiles(zipFilesPath: str):\n",
    "    \"\"\"\n",
    "    Renames zip files in the Mexican COVID19 dataset from the local date format, to a more universal YYYY/MM/DD format.\n",
    "\n",
    "    Parameters\n",
    "    ----------\n",
    "    zipFilesPath (str): \n",
    "        The path to the folder containing all the zip files.\n",
    "    \n",
    "    Returns\n",
    "    -------\n",
    "    None\n",
    "    \"\"\"\n",
    "    for filename in os.listdir(zipFilesPath):\n",
    "        splitDate = filename.split(\"_\")[-1]\n",
    "        day, month, year, extension = splitDate.split(\".\")\n",
    "        destination = zipFilesPath + f\"\\\\datos_abiertos_covid19_{year}.{month}.{day}.zip\"\n",
    "        os.rename(zipFilesPath+\"\\\\\"+filename, destination)\n",
    "        print(f\"Renamed {filename} to {destination.split('\\\\')[-1]}\")\n",
    "\n",
    "\n",
    "renameFiles(downloadsPath) # Why? You might ask... Just to be able to merge them into less files later on..."
   ]
  },
  {
   "cell_type": "code",
   "execution_count": 5,
   "metadata": {
    "scrolled": true
   },
   "outputs": [
    {
     "name": "stdout",
     "output_type": "stream",
     "text": [
      "Opening datos_abiertos_covid19_2024.01.02.zip\n",
      "Opening datos_abiertos_covid19_2024.01.09.zip\n",
      "Opening datos_abiertos_covid19_2024.01.16.zip\n",
      "Opening datos_abiertos_covid19_2024.01.23.zip\n",
      "Opening datos_abiertos_covid19_2024.01.30.zip\n",
      "Opening datos_abiertos_covid19_2024.02.06.zip\n",
      "Successfully saved COVID19 data for 2024/01\n",
      "Opening datos_abiertos_covid19_2024.02.13.zip\n",
      "Opening datos_abiertos_covid19_2024.02.20.zip\n",
      "Opening datos_abiertos_covid19_2024.02.27.zip\n",
      "Opening datos_abiertos_covid19_2024.03.05.zip\n",
      "Successfully saved COVID19 data for 2024/02\n",
      "Opening datos_abiertos_covid19_2024.03.12.zip\n",
      "Opening datos_abiertos_covid19_2024.03.19.zip\n",
      "Opening datos_abiertos_covid19_2024.03.26.zip\n",
      "Opening datos_abiertos_covid19_2024.04.02.zip\n",
      "Successfully saved COVID19 data for 2024/03\n",
      "Opening datos_abiertos_covid19_2024.04.09.zip\n",
      "Successfully saved COVID19 data for 2024/04\n"
     ]
    }
   ],
   "source": [
    "zipFiles = [file for file in os.listdir(downloadsPath) if file.endswith('.zip')]\n",
    "\n",
    "# Initialize an empty DataFrame and variables for the current year and month\n",
    "dataFrame = None\n",
    "currentYear = None\n",
    "currentMonth = None\n",
    "\n",
    "for zipFile in zipFiles:\n",
    "    print(f\"Opening {zipFile}\")\n",
    "\n",
    "    # Extract the year and month from the zip file name\n",
    "    match = re.search(r'datos_abiertos_covid19_(\\d{4})\\.(\\d{2})\\.\\d{2}\\.zip', zipFile)\n",
    "    year = match.group(1)\n",
    "    month = match.group(2)\n",
    "\n",
    "    # Extract the zip file\n",
    "    with zipfile.ZipFile(os.path.join(downloadsPath, zipFile), 'r') as zipReference:\n",
    "        zipReference.extractall(downloadsPath)\n",
    "\n",
    "    # Get the name of the extracted file\n",
    "    extractedFile = zipReference.namelist()[0]\n",
    "\n",
    "    # Read the extracted file into a DataFrame\n",
    "    temporalDataFrame = pl.read_csv(os.path.join(downloadsPath, extractedFile), infer_schema_length=0)  \n",
    "\n",
    "    if year == currentYear and month == currentMonth:\n",
    "        # If the year and month match, concatenate the DataFrame\n",
    "        dataFrame = pl.concat([dataFrame, temporalDataFrame], how='vertical_relaxed') if dataFrame is not None else temporalDataFrame\n",
    "    else:\n",
    "        # If the year and month do not match, save the DataFrame and start a new one\n",
    "        if dataFrame is not None:\n",
    "            dataFrame.write_csv(os.path.join(downloadsPath, f'COVID19MEXICO-{currentYear}-{currentMonth}.csv'))\n",
    "            print(f\"Successfully saved COVID19 data for {currentYear}/{currentMonth}\")\n",
    "            del dataFrame \n",
    "        dataFrame = temporalDataFrame\n",
    "        currentYear = year\n",
    "        currentMonth = month\n",
    "\n",
    "    # Delete the temporary DataFrame \n",
    "    del temporalDataFrame\n",
    "\n",
    "# Save the last DataFrame\n",
    "if dataFrame is not None:\n",
    "    dataFrame.write_csv(os.path.join(downloadsPath, f'COVID19MEXICO-{currentYear}-{currentMonth}.csv'))\n",
    "    print(f\"Successfully saved COVID19 data for {currentYear}/{currentMonth}\")\n",
    "    del dataFrame"
   ]
  }
 ],
 "metadata": {
  "kernelspec": {
   "display_name": "Python 3 (ipykernel)",
   "language": "python",
   "name": "python3"
  },
  "language_info": {
   "codemirror_mode": {
    "name": "ipython",
    "version": 3
   },
   "file_extension": ".py",
   "mimetype": "text/x-python",
   "name": "python",
   "nbconvert_exporter": "python",
   "pygments_lexer": "ipython3",
   "version": "3.8.18"
  }
 },
 "nbformat": 4,
 "nbformat_minor": 4
}
