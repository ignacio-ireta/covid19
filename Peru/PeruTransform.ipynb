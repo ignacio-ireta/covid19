{
 "cells": [
  {
   "cell_type": "code",
   "execution_count": 1,
   "id": "8671404b-6ec4-407a-9b98-ae48ddbec5f0",
   "metadata": {},
   "outputs": [],
   "source": [
    "import pandas as pd"
   ]
  },
  {
   "cell_type": "code",
   "execution_count": 2,
   "id": "9774aa18-b7fc-4065-a76d-10cbaf1b659e",
   "metadata": {
    "scrolled": true
   },
   "outputs": [],
   "source": [
    "# Load dataset\n",
    "data = pd.read_csv(r\"positivos_covid.csv\", sep=\";\")"
   ]
  },
  {
   "cell_type": "code",
   "execution_count": 3,
   "id": "86b5ddc6-ac78-4bfc-a33c-67929a908757",
   "metadata": {},
   "outputs": [],
   "source": [
    "# Drop columns that are not shared with other countries\n",
    "data.drop([\"FECHA_CORTE\", \"DISTRITO\", \"METODODX\", \"UBIGEO\", \"id_persona\"], axis=1, inplace=True)"
   ]
  },
  {
   "cell_type": "code",
   "execution_count": 4,
   "id": "a558901c-76af-48a6-a969-d636ce047678",
   "metadata": {},
   "outputs": [],
   "source": [
    "# Recast columns with appropriate dtypes\n",
    "data = data.astype({\"DEPARTAMENTO\": 'str', \"PROVINCIA\": 'str', \"EDAD\": 'float', \"SEXO\": 'str', \"FECHA_RESULTADO\": 'str'}) "
   ]
  },
  {
   "cell_type": "code",
   "execution_count": 5,
   "id": "dbcef9ff-6939-46fa-8a30-288d14692b92",
   "metadata": {},
   "outputs": [],
   "source": [
    "# Slice date because it's not properly casted to datetime \n",
    "data[\"FECHA_RESULTADO\"] = data.FECHA_RESULTADO.str.slice(stop=-2)"
   ]
  },
  {
   "cell_type": "code",
   "execution_count": 6,
   "id": "3359f174-ae1b-4a14-b1a0-266c9cbb5882",
   "metadata": {},
   "outputs": [],
   "source": [
    "# Since it has bad data (n, 18991230) drop those \n",
    "data[\"FECHA_RESULTADO\"] = pd.to_datetime(data[\"FECHA_RESULTADO\"].replace('n', pd.NaT).replace('18991230', pd.NaT), errors='coerce')\n",
    "data.dropna(subset=[\"FECHA_RESULTADO\"], inplace=True)"
   ]
  },
  {
   "cell_type": "code",
   "execution_count": 7,
   "id": "6164ce68-cfbc-40f8-9fe5-436765225cfe",
   "metadata": {},
   "outputs": [],
   "source": [
    "# Homogenize names\n",
    "data.rename(columns={\"PROVINCIA\": \"Estado\",\n",
    "    \"DEPARTAMENTO\": \"Municipio\",\n",
    "    \"EDAD\": \"Edad\",\n",
    "    \"SEXO\": \"Sexo\",\n",
    "    \"FECHA_RESULTADO\": \"Fecha de inicio de síntomas\"\n",
    "}, inplace=True)"
   ]
  },
  {
   "cell_type": "code",
   "execution_count": 8,
   "id": "87557fc0-0c7b-4a55-996b-aa006d66c39a",
   "metadata": {},
   "outputs": [],
   "source": [
    "# Stablish cutoff date (Based upon Argenitna's last cutoff date)\n",
    "cutoff_date = pd.to_datetime(\"2022-06-04\")\n",
    "filtered_data = data[data[\"Fecha de inicio de síntomas\"] <= cutoff_date]"
   ]
  },
  {
   "cell_type": "code",
   "execution_count": 9,
   "id": "2a1706bf-9518-4eca-9f35-e342d9dbade6",
   "metadata": {},
   "outputs": [
    {
     "name": "stderr",
     "output_type": "stream",
     "text": [
      "C:\\Users\\ignac\\AppData\\Local\\Temp\\ipykernel_16256\\1781632729.py:1: SettingWithCopyWarning: \n",
      "A value is trying to be set on a copy of a slice from a DataFrame.\n",
      "Try using .loc[row_indexer,col_indexer] = value instead\n",
      "\n",
      "See the caveats in the documentation: https://pandas.pydata.org/pandas-docs/stable/user_guide/indexing.html#returning-a-view-versus-a-copy\n",
      "  filtered_data[\"País\"] = \"Perú\"\n"
     ]
    }
   ],
   "source": [
    "filtered_data[\"País\"] = \"Perú\""
   ]
  },
  {
   "cell_type": "code",
   "execution_count": 10,
   "id": "a08cd9b4-0635-4902-b82e-e9f5ec260f79",
   "metadata": {},
   "outputs": [
    {
     "name": "stderr",
     "output_type": "stream",
     "text": [
      "C:\\Users\\ignac\\AppData\\Local\\Temp\\ipykernel_16256\\436868470.py:1: SettingWithCopyWarning: \n",
      "A value is trying to be set on a copy of a slice from a DataFrame.\n",
      "Try using .loc[row_indexer,col_indexer] = value instead\n",
      "\n",
      "See the caveats in the documentation: https://pandas.pydata.org/pandas-docs/stable/user_guide/indexing.html#returning-a-view-versus-a-copy\n",
      "  filtered_data.Sexo = filtered_data.Sexo.str.slice(stop=1)\n"
     ]
    }
   ],
   "source": [
    "filtered_data.Sexo = filtered_data.Sexo.str.slice(stop=1)"
   ]
  },
  {
   "cell_type": "code",
   "execution_count": 11,
   "id": "205e9de7-7b09-4ecc-b082-f59e6bdbb2cd",
   "metadata": {},
   "outputs": [],
   "source": [
    "filtered_data.to_csv(\"COVID19PERU.csv\")"
   ]
  },
  {
   "cell_type": "code",
   "execution_count": null,
   "id": "b35376e3-8594-4492-b8ba-bab0cad98912",
   "metadata": {},
   "outputs": [],
   "source": []
  }
 ],
 "metadata": {
  "kernelspec": {
   "display_name": "Python 3 (ipykernel)",
   "language": "python",
   "name": "python3"
  },
  "language_info": {
   "codemirror_mode": {
    "name": "ipython",
    "version": 3
   },
   "file_extension": ".py",
   "mimetype": "text/x-python",
   "name": "python",
   "nbconvert_exporter": "python",
   "pygments_lexer": "ipython3",
   "version": "3.12.2"
  }
 },
 "nbformat": 4,
 "nbformat_minor": 5
}
